{
 "cells": [
  {
   "cell_type": "code",
   "execution_count": null,
   "metadata": {
    "collapsed": true
   },
   "outputs": [],
   "source": [
    "# set up SPARQL endpoint for wikidata\n",
    "from SPARQLWrapper import SPARQLWrapper, JSON\n",
    "sparql = SPARQLWrapper(\"https://query.wikidata.org/sparql\")"
   ]
  },
  {
   "cell_type": "code",
   "execution_count": null,
   "metadata": {
    "collapsed": true
   },
   "outputs": [],
   "source": [
    "# resolve Wikidata entity from title\n",
    "\n",
    "from wikitables.client import Client\n",
    "\n",
    "client = Client(\"en\")\n",
    "\n",
    "def getWikidata(title):\n",
    "    return client.fetch_wikidata(title)"
   ]
  },
  {
   "cell_type": "code",
   "execution_count": null,
   "metadata": {
    "collapsed": true
   },
   "outputs": [],
   "source": [
    "# Features (as suggested by the authors (Emir Munoz & Aidan Hogan) of Wikitables Triples Paper)\n",
    "# =============\n",
    "# Table Features\n",
    "#     (-) 1 Number of rows\n",
    "#     (-) 2 Number of columns\n",
    "#     (-) 3 Total relations extracted\n",
    "# Column Features\n",
    "#     (+) 4 Potential relations\n",
    "#     (+) 5 Unique potential relations\n",
    "#     (+) 6 Entity relatedness (new)\n",
    "# Predicate Features\n",
    "#     (+) 7 Normalized unique subject count / Normalized unique object count\n",
    "# Cell Features\n",
    "#     (-) 8 Number of entities in subject cell\n",
    "#     (-) 9 Number of entities in object cell\n",
    "#     (-) 10 String length in subject cell\n",
    "#     (-) 11 String length in object cell\n",
    "# Predicate/Column Features\n",
    "#     (+) 12 Maximum between Jaro-Walker distance and dice coefficient\n",
    "#     (+) 13 Number of rows where the relation holds\n",
    "# Where (+) signifies a positive feature & (-) signifies a negative feature"
   ]
  },
  {
   "cell_type": "code",
   "execution_count": null,
   "metadata": {
    "collapsed": true
   },
   "outputs": [],
   "source": [
    "# Predicate Features\n",
    "\n",
    "# subject and object must be prefixed with \"wd:\"\n",
    "def getPredicates(subject,obj):\n",
    "    sparql.setQuery(\"\"\"SELECT * WHERE\n",
    "    {\n",
    "         %s ?p %s .\n",
    "         FILTER(STRSTARTS(str(?p), \"http://www.wikidata.org/prop/direct/\"))\n",
    "         SERVICE wikibase:label { bd:serviceParam wikibase:language \"en\" }\n",
    "    }\"\"\" % (subject, obj))\n",
    "    \n",
    "    sparql.setReturnFormat(JSON)\n",
    "    results = sparql.query().convert()\n",
    "    \n",
    "    predicates = list()\n",
    "\n",
    "    for row in results[\"results\"][\"bindings\"]:\n",
    "        if row[\"p\"][\"type\"] == \"uri\":\n",
    "            predicates.append(row[\"p\"][\"value\"])\n",
    "\n",
    "    return predicates\n",
    "\n",
    "# (+) 7 Normalized unique subject count / Normalized unique object count\\"
   ]
  },
  {
   "cell_type": "code",
   "execution_count": null,
   "metadata": {
    "collapsed": true
   },
   "outputs": [],
   "source": [
    "# Predicate/ Column Features\n",
    "# (+) 12 Max of dice coeffient and jaro-winkler distance\n",
    "from pyjarowinkler import distance\n",
    "\n",
    "def dice_coefficient(a,b):\n",
    "    if not len(a) or not len(b): return 0.0\n",
    "    \"\"\" quick case for true duplicates \"\"\"\n",
    "    if a == b: return 1.0\n",
    "    \"\"\" if a != b, and a or b are single chars, then they can't possibly match \"\"\"\n",
    "    if len(a) == 1 or len(b) == 1: return 0.0\n",
    "    \n",
    "    \"\"\" use python list comprehension, preferred over list.append() \"\"\"\n",
    "    a_bigram_list = [a[i:i+2] for i in range(len(a)-1)]\n",
    "    b_bigram_list = [b[i:i+2] for i in range(len(b)-1)]\n",
    "    \n",
    "    a_bigram_list.sort()\n",
    "    b_bigram_list.sort()\n",
    "    \n",
    "    # assignments to save function calls\n",
    "    lena = len(a_bigram_list)\n",
    "    lenb = len(b_bigram_list)\n",
    "    # initialize match counters\n",
    "    matches = i = j = 0\n",
    "    while (i < lena and j < lenb):\n",
    "        if a_bigram_list[i] == b_bigram_list[j]:\n",
    "            matches += 2\n",
    "            i += 1\n",
    "            j += 1\n",
    "        elif a_bigram_list[i] < b_bigram_list[j]:\n",
    "            i += 1\n",
    "        else:\n",
    "            j += 1\n",
    "    \n",
    "    score = float(matches)/float(lena + lenb)\n",
    "    return score\n",
    "\n",
    "def feature11(string1, string2):\n",
    "    return max(distance.get_jaro_distance(string1, string2, winkler=True, scaling=0.1),\\\n",
    "              dice_coefficient(string1, string2))\n",
    "\n",
    "# (+) 12 No of rows that contain the subject and object\n",
    "def feature12(predicate):\n",
    "    sparql.setQuery(\"\"\"SELECT * WHERE\n",
    "    {\n",
    "         ?s %s ?o .\n",
    "         FILTER(STRSTARTS(str(?s), \"http://www.wikidata.org/entity/\"))\n",
    "         FILTER(STRSTARTS(str(?o), \"http://www.wikidata.org/entity/\"))\n",
    "         SERVICE wikibase:label { bd:serviceParam wikibase:language \"en\" }\n",
    "    }\"\"\" % (predicate))\n",
    "    \n",
    "    sparql.setReturnFormat(JSON)\n",
    "    results = sparql.query().convert()\n",
    "\n",
    "    return len(results[\"results\"][\"bindings\"])"
   ]
  },
  {
   "cell_type": "code",
   "execution_count": null,
   "metadata": {
    "collapsed": true
   },
   "outputs": [],
   "source": [
    "# functions entitiy relatedness using API call\n",
    "import tagme\n",
    "\n",
    "with open(\"tagme\", 'r') as file:\n",
    "    token = file.readline().strip()\n",
    "    \n",
    "tagme.GCUBE_TOKEN = token\n",
    "\n",
    "# Get relatedness between a pair of entities specified by title.\n",
    "# rels = tagme.relatedness_title((\"Barack Obama\", \"Italy\"))\n",
    "# print(\"Obama and italy have a semantic relation of\", rels.relatedness[0].rel)"
   ]
  },
  {
   "cell_type": "code",
   "execution_count": null,
   "metadata": {
    "collapsed": true
   },
   "outputs": [],
   "source": [
    "import csv\n",
    "\n",
    "# now that table has been recreated with only disambiguated entities\n",
    "# let the magic happen\n",
    "# extract all the triples and features\n",
    "\n",
    "def addTripleCSV(d, file, mode):\n",
    "    with open(file, mode, newline='') as csvfile:\n",
    "        fieldnames = ['id', 'subject', 'predicate','object']\n",
    "        writer = csv.DictWriter(csvfile, fieldnames=fieldnames)\n",
    "\n",
    "        if mode == 'w':\n",
    "            writer.writeheader()\n",
    "\n",
    "        writer.writerow(d)"
   ]
  }
 ],
 "metadata": {
  "anaconda-cloud": {},
  "kernelspec": {
   "display_name": "Python [conda env:anaconda3]",
   "language": "python",
   "name": "conda-env-anaconda3-py"
  },
  "language_info": {
   "codemirror_mode": {
    "name": "ipython",
    "version": 3
   },
   "file_extension": ".py",
   "mimetype": "text/x-python",
   "name": "python",
   "nbconvert_exporter": "python",
   "pygments_lexer": "ipython3",
   "version": "3.5.2"
  }
 },
 "nbformat": 4,
 "nbformat_minor": 1
}
