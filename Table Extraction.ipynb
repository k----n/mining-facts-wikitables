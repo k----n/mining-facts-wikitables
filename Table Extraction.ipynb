{
 "cells": [
  {
   "cell_type": "code",
   "execution_count": 1,
   "metadata": {
    "collapsed": false
   },
   "outputs": [],
   "source": [
    "from wikitables import *\n",
    "import mwclient\n",
    "import mwparserfromhell as mwp\n",
    "import logging\n",
    "from collections import defaultdict\n",
    "nested_dict = lambda: defaultdict(nested_dict)"
   ]
  },
  {
   "cell_type": "code",
   "execution_count": 2,
   "metadata": {
    "collapsed": false
   },
   "outputs": [],
   "source": [
    "logger = logging.getLogger(\"wikitables\")\n",
    "logger.setLevel(logging.DEBUG)"
   ]
  },
  {
   "cell_type": "code",
   "execution_count": 3,
   "metadata": {
    "collapsed": false,
    "scrolled": true
   },
   "outputs": [],
   "source": [
    "# retrieve list of articles with tables in wikipedia\n",
    "# get 10 articles each from a-z with appeneded random letter to act as random sample of tables\n",
    "import string\n",
    "import random\n",
    "\n",
    "articles = list()\n",
    "site = mwclient.Site('en.wikipedia.org')\n",
    "\n",
    "# for letter in string.ascii_lowercase:\n",
    "#     counter = 0\n",
    "#     while (counter!=10):\n",
    "#         for page in site.allpages(filterredir='nonredirects', prefix=letter+random.choice(string.ascii_lowercase)):\n",
    "#             tables = mwp.parse(page.text()).filter_tags(matches=ftag('table'))\n",
    "#             if tables:\n",
    "#                 t = import_tables(page.name)\n",
    "#                 if t:\n",
    "#                     print(page.name)\n",
    "#                     articles.append(page.name)\n",
    "#                     counter+=1\n",
    "#                     break"
   ]
  },
  {
   "cell_type": "code",
   "execution_count": 4,
   "metadata": {
    "collapsed": false
   },
   "outputs": [],
   "source": [
    "# # save the articles with tables\n",
    "# import pickle\n",
    "\n",
    "# with open(\"articles.txt\", \"wb\") as fp:\n",
    "#     pickle.dump(articles, fp)"
   ]
  },
  {
   "cell_type": "code",
   "execution_count": 5,
   "metadata": {
    "collapsed": false
   },
   "outputs": [],
   "source": [
    "# import the saved articles\n",
    "import pickle\n",
    "with open(\"articles.txt\", \"rb\") as fp:\n",
    "    articles = sorted(list(set(pickle.load(fp))))"
   ]
  },
  {
   "cell_type": "code",
   "execution_count": 6,
   "metadata": {
    "collapsed": false,
    "scrolled": true
   },
   "outputs": [],
   "source": [
    "# extract tables and content needed for disambiguation/features\n",
    "t = nested_dict()\n",
    "\n",
    "# for i in range(len(articles)):\n",
    "#    t[i] = import_tables(articles[i])"
   ]
  },
  {
   "cell_type": "code",
   "execution_count": 7,
   "metadata": {
    "collapsed": false,
    "scrolled": true
   },
   "outputs": [],
   "source": [
    "# # save the extracted tables\n",
    "# import dill #lambda functions\n",
    "\n",
    "# with open(\"tables.txt\", \"wb\") as fp:\n",
    "#      dill.dump(t, fp)"
   ]
  },
  {
   "cell_type": "code",
   "execution_count": 8,
   "metadata": {
    "collapsed": true
   },
   "outputs": [],
   "source": [
    "# import the saved extracted tables\n",
    "import dill\n",
    "with open(\"tables.txt\", \"rb\") as fp:\n",
    "    extracted_tables = dill.load(fp)"
   ]
  },
  {
   "cell_type": "code",
   "execution_count": 9,
   "metadata": {
    "collapsed": false,
    "scrolled": true
   },
   "outputs": [
    {
     "name": "stdout",
     "output_type": "stream",
     "text": [
      "meal -> Meal (score: 0.2014230340719223)\n",
      "Mexican -> Mexican cuisine (score: 0.36614900827407837)\n",
      "burritos -> Burrito (score: 0.28607892990112305)\n"
     ]
    }
   ],
   "source": [
    "# disambiguate entities within cells\n",
    "import tagme\n",
    "\n",
    "with open(\"tagme\", 'r') as file:\n",
    "    token = file.readline().strip()\n",
    "    \n",
    "tagme.GCUBE_TOKEN = token\n",
    "\n",
    "lunch_annotations = tagme.annotate(\"My favourite meal is Mexican burritos.\")\n",
    "\n",
    "# Print annotations with a score higher than 0.1\n",
    "for ann in lunch_annotations.get_annotations(0.1):\n",
    "    print(ann)\n"
   ]
  },
  {
   "cell_type": "code",
   "execution_count": 10,
   "metadata": {
    "collapsed": false
   },
   "outputs": [
    {
     "name": "stdout",
     "output_type": "stream",
     "text": [
      "{'p': {'value': 'http://www.wikidata.org/prop/direct/P527', 'type': 'uri'}, 'o': {'value': 'http://www.wikidata.org/entity/Q4398', 'type': 'uri'}}\n",
      "{'p': {'value': 'http://www.wikidata.org/prop/direct/P527', 'type': 'uri'}, 'o': {'value': 'http://www.wikidata.org/entity/Q15316', 'type': 'uri'}}\n",
      "{'p': {'value': 'http://www.wikidata.org/prop/direct/P527', 'type': 'uri'}, 'o': {'value': 'http://www.wikidata.org/entity/Q39061', 'type': 'uri'}}\n",
      "{'p': {'value': 'http://www.wikidata.org/prop/direct/P527', 'type': 'uri'}, 'o': {'value': 'http://www.wikidata.org/entity/Q41228', 'type': 'uri'}}\n",
      "{'p': {'value': 'http://www.wikidata.org/prop/direct/P527', 'type': 'uri'}, 'o': {'value': 'http://www.wikidata.org/entity/Q42762', 'type': 'uri'}}\n",
      "{'p': {'value': 'http://www.wikidata.org/prop/direct/P527', 'type': 'uri'}, 'o': {'value': 'http://www.wikidata.org/entity/Q83169', 'type': 'uri'}}\n",
      "{'p': {'value': 'http://www.wikidata.org/prop/direct/P527', 'type': 'uri'}, 'o': {'value': 'http://www.wikidata.org/entity/Q83296', 'type': 'uri'}}\n",
      "{'p': {'value': 'http://www.wikidata.org/prop/direct/P527', 'type': 'uri'}, 'o': {'value': 'http://www.wikidata.org/entity/Q101949', 'type': 'uri'}}\n",
      "{'p': {'value': 'http://www.wikidata.org/prop/direct/P527', 'type': 'uri'}, 'o': {'value': 'http://www.wikidata.org/entity/Q181982', 'type': 'uri'}}\n",
      "{'p': {'value': 'http://www.wikidata.org/prop/direct/P527', 'type': 'uri'}, 'o': {'value': 'http://www.wikidata.org/entity/Q186198', 'type': 'uri'}}\n",
      "{'p': {'value': 'http://www.wikidata.org/prop/direct/P527', 'type': 'uri'}, 'o': {'value': 'http://www.wikidata.org/entity/Q193927', 'type': 'uri'}}\n",
      "{'p': {'value': 'http://www.wikidata.org/prop/direct/P527', 'type': 'uri'}, 'o': {'value': 'http://www.wikidata.org/entity/Q215680', 'type': 'uri'}}\n",
      "{'p': {'value': 'http://www.wikidata.org/prop/direct/P527', 'type': 'uri'}, 'o': {'value': 'http://www.wikidata.org/entity/Q690092', 'type': 'uri'}}\n",
      "{'p': {'value': 'http://www.wikidata.org/prop/direct/P527', 'type': 'uri'}, 'o': {'value': 'http://www.wikidata.org/entity/Q715269', 'type': 'uri'}}\n",
      "{'p': {'value': 'http://www.wikidata.org/prop/direct/P527', 'type': 'uri'}, 'o': {'value': 'http://www.wikidata.org/entity/Q786270', 'type': 'uri'}}\n",
      "{'p': {'value': 'http://www.wikidata.org/prop/direct/P527', 'type': 'uri'}, 'o': {'value': 'http://www.wikidata.org/entity/Q1349417', 'type': 'uri'}}\n",
      "{'p': {'value': 'http://www.wikidata.org/prop/direct/P527', 'type': 'uri'}, 'o': {'value': 'http://www.wikidata.org/entity/Q1555938', 'type': 'uri'}}\n",
      "{'p': {'value': 'http://www.wikidata.org/prop/direct/P527', 'type': 'uri'}, 'o': {'value': 'http://www.wikidata.org/entity/Q6500960', 'type': 'uri'}}\n",
      "{'p': {'value': 'http://www.wikidata.org/prop/direct/P528', 'type': 'uri'}, 'o': {'value': '806.4616.0110', 'type': 'literal'}}\n",
      "{'p': {'value': 'http://www.wikidata.org/prop/direct/P571', 'type': 'uri'}, 'o': {'datatype': 'http://www.w3.org/2001/XMLSchema#dateTime', 'value': '-4540000000-01-01T00:00:00Z', 'type': 'literal'}}\n",
      "{'p': {'value': 'http://www.wikidata.org/prop/direct/P576', 'type': 'uri'}, 'o': {'value': 't856699781', 'type': 'bnode'}}\n",
      "{'p': {'value': 'http://www.wikidata.org/prop/direct/P610', 'type': 'uri'}, 'o': {'value': 'http://www.wikidata.org/entity/Q513', 'type': 'uri'}}\n",
      "{'p': {'value': 'http://www.wikidata.org/prop/direct/P610', 'type': 'uri'}, 'o': {'value': 'http://www.wikidata.org/entity/Q14081', 'type': 'uri'}}\n",
      "{'p': {'value': 'http://www.wikidata.org/prop/direct/P646', 'type': 'uri'}, 'o': {'value': '/m/02j71', 'type': 'literal'}}\n",
      "{'p': {'value': 'http://www.wikidata.org/prop/direct/P706', 'type': 'uri'}, 'o': {'value': 'http://www.wikidata.org/entity/Q215913', 'type': 'uri'}}\n",
      "{'p': {'value': 'http://www.wikidata.org/prop/direct/P910', 'type': 'uri'}, 'o': {'value': 'http://www.wikidata.org/entity/Q1458521', 'type': 'uri'}}\n",
      "{'p': {'value': 'http://www.wikidata.org/prop/direct/P913', 'type': 'uri'}, 'o': {'value': 'http://www.wikidata.org/entity/Q426529', 'type': 'uri'}}\n",
      "{'p': {'value': 'http://www.wikidata.org/prop/direct/P935', 'type': 'uri'}, 'o': {'value': 'Earth', 'type': 'literal'}}\n",
      "{'p': {'value': 'http://www.wikidata.org/prop/direct/P949', 'type': 'uri'}, 'o': {'value': '003982849', 'type': 'literal'}}\n",
      "{'p': {'value': 'http://www.wikidata.org/prop/direct/P972', 'type': 'uri'}, 'o': {'value': 'http://www.wikidata.org/entity/Q5460604', 'type': 'uri'}}\n",
      "{'p': {'value': 'http://www.wikidata.org/prop/direct/P998', 'type': 'uri'}, 'o': {'value': 'Science/Astronomy/Solar_System/Planets/Earth/', 'type': 'literal'}}\n",
      "{'p': {'value': 'http://www.wikidata.org/prop/direct/P998', 'type': 'uri'}, 'o': {'value': 'World/Deutsch/Wissenschaft/Naturwissenschaften/Astronomie/Sonnensystem/Planeten/Erde/', 'type': 'literal'}}\n",
      "{'p': {'value': 'http://www.wikidata.org/prop/direct/P998', 'type': 'uri'}, 'o': {'value': 'World/Español/Ciencia_y_tecnología/Astronomía/Sistema_Solar/Planetas/Tierra/', 'type': 'literal'}}\n",
      "{'p': {'value': 'http://www.wikidata.org/prop/direct/P1036', 'type': 'uri'}, 'o': {'value': '550', 'type': 'literal'}}\n",
      "{'p': {'value': 'http://www.wikidata.org/prop/direct/P1036', 'type': 'uri'}, 'o': {'value': '525', 'type': 'literal'}}\n",
      "{'p': {'value': 'http://www.wikidata.org/prop/direct/P1036', 'type': 'uri'}, 'o': {'value': '910.02', 'type': 'literal'}}\n",
      "{'p': {'value': 'http://www.wikidata.org/prop/direct/P1051', 'type': 'uri'}, 'o': {'value': '499', 'type': 'literal'}}\n",
      "{'p': {'value': 'http://www.wikidata.org/prop/direct/P1051', 'type': 'uri'}, 'o': {'value': '3769', 'type': 'literal'}}\n",
      "{'p': {'value': 'http://www.wikidata.org/prop/direct/P1082', 'type': 'uri'}, 'o': {'datatype': 'http://www.w3.org/2001/XMLSchema#decimal', 'value': '7530103737', 'type': 'literal'}}\n",
      "{'p': {'value': 'http://www.wikidata.org/prop/direct/P1096', 'type': 'uri'}, 'o': {'datatype': 'http://www.w3.org/2001/XMLSchema#decimal', 'value': '0.016710219', 'type': 'literal'}}\n",
      "{'p': {'value': 'http://www.wikidata.org/prop/direct/P1096', 'type': 'uri'}, 'o': {'datatype': 'http://www.w3.org/2001/XMLSchema#decimal', 'value': '0.01671123', 'type': 'literal'}}\n",
      "{'p': {'value': 'http://www.wikidata.org/prop/direct/P1102', 'type': 'uri'}, 'o': {'datatype': 'http://www.w3.org/2001/XMLSchema#decimal', 'value': '0.0033528', 'type': 'literal'}}\n",
      "{'p': {'value': 'http://www.wikidata.org/prop/direct/P1225', 'type': 'uri'}, 'o': {'value': '10046628', 'type': 'literal'}}\n",
      "{'p': {'value': 'http://www.wikidata.org/prop/direct/P1225', 'type': 'uri'}, 'o': {'value': '10637787', 'type': 'literal'}}\n",
      "{'p': {'value': 'http://www.wikidata.org/prop/direct/P1245', 'type': 'uri'}, 'o': {'value': '7401', 'type': 'literal'}}\n",
      "{'p': {'value': 'http://www.wikidata.org/prop/direct/P1281', 'type': 'uri'}, 'o': {'value': '1', 'type': 'literal'}}\n",
      "{'p': {'value': 'http://www.wikidata.org/prop/direct/P1296', 'type': 'uri'}, 'o': {'value': '0145903', 'type': 'literal'}}\n",
      "{'p': {'value': 'http://www.wikidata.org/prop/direct/P1332', 'type': 'uri'}, 'o': {'datatype': 'http://www.opengis.net/ont/geosparql#wktLiteral', 'value': 'Point(0.0 90.0)', 'type': 'literal'}}\n",
      "{'p': {'value': 'http://www.wikidata.org/prop/direct/P1333', 'type': 'uri'}, 'o': {'datatype': 'http://www.opengis.net/ont/geosparql#wktLiteral', 'value': 'Point(0.0 -90.0)', 'type': 'literal'}}\n",
      "{'p': {'value': 'http://www.wikidata.org/prop/direct/P1343', 'type': 'uri'}, 'o': {'value': 'http://www.wikidata.org/entity/Q602358', 'type': 'uri'}}\n",
      "{'p': {'value': 'http://www.wikidata.org/prop/direct/P1343', 'type': 'uri'}, 'o': {'value': 'http://www.wikidata.org/entity/Q1970746', 'type': 'uri'}}\n",
      "{'p': {'value': 'http://www.wikidata.org/prop/direct/P1343', 'type': 'uri'}, 'o': {'value': 'http://www.wikidata.org/entity/Q2041543', 'type': 'uri'}}\n",
      "{'p': {'value': 'http://www.wikidata.org/prop/direct/P1343', 'type': 'uri'}, 'o': {'value': 'http://www.wikidata.org/entity/Q4086271', 'type': 'uri'}}\n",
      "{'p': {'value': 'http://www.wikidata.org/prop/direct/P1343', 'type': 'uri'}, 'o': {'value': 'http://www.wikidata.org/entity/Q4173137', 'type': 'uri'}}\n",
      "{'p': {'value': 'http://www.wikidata.org/prop/direct/P1343', 'type': 'uri'}, 'o': {'value': 'http://www.wikidata.org/entity/Q19180675', 'type': 'uri'}}\n",
      "{'p': {'value': 'http://www.wikidata.org/prop/direct/P1417', 'type': 'uri'}, 'o': {'value': 'place/Earth', 'type': 'literal'}}\n",
      "{'p': {'value': 'http://www.wikidata.org/prop/direct/P1419', 'type': 'uri'}, 'o': {'value': 'http://www.wikidata.org/entity/Q185969', 'type': 'uri'}}\n",
      "{'p': {'value': 'http://www.wikidata.org/prop/direct/P1552', 'type': 'uri'}, 'o': {'value': 'http://www.wikidata.org/entity/Q846030', 'type': 'uri'}}\n",
      "{'p': {'value': 'http://www.wikidata.org/prop/direct/P1552', 'type': 'uri'}, 'o': {'value': 'http://www.wikidata.org/entity/Q6500960', 'type': 'uri'}}\n",
      "{'p': {'value': 'http://www.wikidata.org/prop/direct/P1552', 'type': 'uri'}, 'o': {'value': 'http://www.wikidata.org/entity/Q25935139', 'type': 'uri'}}\n",
      "{'p': {'value': 'http://www.wikidata.org/prop/direct/P1557', 'type': 'uri'}, 'o': {'value': 'http://www.wikidata.org/entity/Q898312', 'type': 'uri'}}\n",
      "{'p': {'value': 'http://www.wikidata.org/prop/direct/P1566', 'type': 'uri'}, 'o': {'value': '6295630', 'type': 'literal'}}\n",
      "{'p': {'value': 'http://www.wikidata.org/prop/direct/P1589', 'type': 'uri'}, 'o': {'value': 'http://www.wikidata.org/entity/Q459173', 'type': 'uri'}}\n",
      "{'p': {'value': 'http://www.wikidata.org/prop/direct/P1617', 'type': 'uri'}, 'o': {'value': 'dd8bc764-62f3-4f5f-837d-09aa2580f7b9', 'type': 'literal'}}\n",
      "{'p': {'value': 'http://www.wikidata.org/prop/direct/P1667', 'type': 'uri'}, 'o': {'value': '7030638', 'type': 'literal'}}\n",
      "{'p': {'value': 'http://www.wikidata.org/prop/direct/P1814', 'type': 'uri'}, 'o': {'value': 'ちきゅう', 'type': 'literal'}}\n",
      "{'p': {'value': 'http://www.wikidata.org/prop/direct/P1889', 'type': 'uri'}, 'o': {'value': 'http://www.wikidata.org/entity/Q36133', 'type': 'uri'}}\n",
      "{'p': {'value': 'http://www.wikidata.org/prop/direct/P1889', 'type': 'uri'}, 'o': {'value': 'http://www.wikidata.org/entity/Q11081619', 'type': 'uri'}}\n",
      "{'p': {'value': 'http://www.wikidata.org/prop/direct/P2045', 'type': 'uri'}, 'o': {'datatype': 'http://www.w3.org/2001/XMLSchema#decimal', 'value': '7.155', 'type': 'literal'}}\n",
      "{'p': {'value': 'http://www.wikidata.org/prop/direct/P2067', 'type': 'uri'}, 'o': {'datatype': 'http://www.w3.org/2001/XMLSchema#decimal', 'value': '5972.37', 'type': 'literal'}}\n",
      "{'p': {'value': 'http://www.wikidata.org/prop/direct/P2120', 'type': 'uri'}, 'o': {'datatype': 'http://www.w3.org/2001/XMLSchema#decimal', 'value': '6371', 'type': 'literal'}}\n",
      "{'p': {'value': 'http://www.wikidata.org/prop/direct/P2120', 'type': 'uri'}, 'o': {'datatype': 'http://www.w3.org/2001/XMLSchema#decimal', 'value': '6378.137', 'type': 'literal'}}\n",
      "{'p': {'value': 'http://www.wikidata.org/prop/direct/P2146', 'type': 'uri'}, 'o': {'datatype': 'http://www.w3.org/2001/XMLSchema#decimal', 'value': '365.256363004', 'type': 'literal'}}\n",
      "{'p': {'value': 'http://www.wikidata.org/prop/direct/P2163', 'type': 'uri'}, 'o': {'value': '1860481', 'type': 'literal'}}\n",
      "{'p': {'value': 'http://www.wikidata.org/prop/direct/P2184', 'type': 'uri'}, 'o': {'value': 'http://www.wikidata.org/entity/Q156312', 'type': 'uri'}}\n",
      "{'p': {'value': 'http://www.wikidata.org/prop/direct/P2184', 'type': 'uri'}, 'o': {'value': 'http://www.wikidata.org/entity/Q200325', 'type': 'uri'}}\n",
      "{'p': {'value': 'http://www.wikidata.org/prop/direct/P2213', 'type': 'uri'}, 'o': {'datatype': 'http://www.w3.org/2001/XMLSchema#decimal', 'value': '348.73936', 'type': 'literal'}}\n",
      "{'p': {'value': 'http://www.wikidata.org/prop/direct/P2233', 'type': 'uri'}, 'o': {'datatype': 'http://www.w3.org/2001/XMLSchema#decimal', 'value': '1', 'type': 'literal'}}\n",
      "{'p': {'value': 'http://www.wikidata.org/prop/direct/P2233', 'type': 'uri'}, 'o': {'datatype': 'http://www.w3.org/2001/XMLSchema#decimal', 'value': '149598023', 'type': 'literal'}}\n",
      "{'p': {'value': 'http://www.wikidata.org/prop/direct/P2234', 'type': 'uri'}, 'o': {'datatype': 'http://www.w3.org/2001/XMLSchema#decimal', 'value': '1083210000000', 'type': 'literal'}}\n",
      "{'p': {'value': 'http://www.wikidata.org/prop/direct/P2243', 'type': 'uri'}, 'o': {'datatype': 'http://www.w3.org/2001/XMLSchema#decimal', 'value': '1.00000261', 'type': 'literal'}}\n",
      "{'p': {'value': 'http://www.wikidata.org/prop/direct/P2243', 'type': 'uri'}, 'o': {'datatype': 'http://www.w3.org/2001/XMLSchema#decimal', 'value': '151930000', 'type': 'literal'}}\n",
      "{'p': {'value': 'http://www.wikidata.org/prop/direct/P2244', 'type': 'uri'}, 'o': {'datatype': 'http://www.w3.org/2001/XMLSchema#decimal', 'value': '147095000', 'type': 'literal'}}\n",
      "{'p': {'value': 'http://www.wikidata.org/prop/direct/P2248', 'type': 'uri'}, 'o': {'datatype': 'http://www.w3.org/2001/XMLSchema#decimal', 'value': '114.20783', 'type': 'literal'}}\n",
      "{'p': {'value': 'http://www.wikidata.org/prop/direct/P2325', 'type': 'uri'}, 'o': {'datatype': 'http://www.w3.org/2001/XMLSchema#decimal', 'value': '358.617', 'type': 'literal'}}\n",
      "{'p': {'value': 'http://www.wikidata.org/prop/direct/P2547', 'type': 'uri'}, 'o': {'datatype': 'http://www.w3.org/2001/XMLSchema#decimal', 'value': '40075', 'type': 'literal'}}\n",
      "{'p': {'value': 'http://www.wikidata.org/prop/direct/P2573', 'type': 'uri'}, 'o': {'datatype': 'http://www.w3.org/2001/XMLSchema#decimal', 'value': '263000000', 'type': 'literal'}}\n",
      "{'p': {'value': 'http://www.wikidata.org/prop/direct/P2573', 'type': 'uri'}, 'o': {'datatype': 'http://www.w3.org/2001/XMLSchema#decimal', 'value': '264000000', 'type': 'literal'}}\n",
      "{'p': {'value': 'http://www.wikidata.org/prop/direct/P2573', 'type': 'uri'}, 'o': {'datatype': 'http://www.w3.org/2001/XMLSchema#decimal', 'value': '265000000', 'type': 'literal'}}\n",
      "{'p': {'value': 'http://www.wikidata.org/prop/direct/P2573', 'type': 'uri'}, 'o': {'datatype': 'http://www.w3.org/2001/XMLSchema#decimal', 'value': '266000000', 'type': 'literal'}}\n",
      "{'p': {'value': 'http://www.wikidata.org/prop/direct/P2573', 'type': 'uri'}, 'o': {'datatype': 'http://www.w3.org/2001/XMLSchema#decimal', 'value': '274000000', 'type': 'literal'}}\n",
      "{'p': {'value': 'http://www.wikidata.org/prop/direct/P2573', 'type': 'uri'}, 'o': {'datatype': 'http://www.w3.org/2001/XMLSchema#decimal', 'value': '281000000', 'type': 'literal'}}\n",
      "{'p': {'value': 'http://www.wikidata.org/prop/direct/P2573', 'type': 'uri'}, 'o': {'datatype': 'http://www.w3.org/2001/XMLSchema#decimal', 'value': '291000000', 'type': 'literal'}}\n",
      "{'p': {'value': 'http://www.wikidata.org/prop/direct/P2573', 'type': 'uri'}, 'o': {'datatype': 'http://www.w3.org/2001/XMLSchema#decimal', 'value': '294000000', 'type': 'literal'}}\n",
      "{'p': {'value': 'http://www.wikidata.org/prop/direct/P2573', 'type': 'uri'}, 'o': {'datatype': 'http://www.w3.org/2001/XMLSchema#decimal', 'value': '305000000', 'type': 'literal'}}\n",
      "{'p': {'value': 'http://www.wikidata.org/prop/direct/P2573', 'type': 'uri'}, 'o': {'datatype': 'http://www.w3.org/2001/XMLSchema#decimal', 'value': '324000000', 'type': 'literal'}}\n",
      "{'p': {'value': 'http://www.wikidata.org/prop/direct/P2573', 'type': 'uri'}, 'o': {'datatype': 'http://www.w3.org/2001/XMLSchema#decimal', 'value': '333000000', 'type': 'literal'}}\n",
      "{'p': {'value': 'http://www.wikidata.org/prop/direct/P2573', 'type': 'uri'}, 'o': {'datatype': 'http://www.w3.org/2001/XMLSchema#decimal', 'value': '336000000', 'type': 'literal'}}\n",
      "{'p': {'value': 'http://www.wikidata.org/prop/direct/P2573', 'type': 'uri'}, 'o': {'datatype': 'http://www.w3.org/2001/XMLSchema#decimal', 'value': '343000000', 'type': 'literal'}}\n",
      "{'p': {'value': 'http://www.wikidata.org/prop/direct/P2573', 'type': 'uri'}, 'o': {'datatype': 'http://www.w3.org/2001/XMLSchema#decimal', 'value': '360000000', 'type': 'literal'}}\n",
      "{'p': {'value': 'http://www.wikidata.org/prop/direct/P18', 'type': 'uri'}, 'o': {'value': 'http://commons.wikimedia.org/wiki/Special:FilePath/The%20Earth%20seen%20from%20Apollo%2017.jpg', 'type': 'uri'}}\n",
      "{'p': {'value': 'http://www.wikidata.org/prop/direct/P31', 'type': 'uri'}, 'o': {'value': 'http://www.wikidata.org/entity/Q3504248', 'type': 'uri'}}\n",
      "{'p': {'value': 'http://www.wikidata.org/prop/direct/P138', 'type': 'uri'}, 'o': {'value': 'http://www.wikidata.org/entity/Q36133', 'type': 'uri'}}\n",
      "{'p': {'value': 'http://www.wikidata.org/prop/direct/P155', 'type': 'uri'}, 'o': {'value': 'http://www.wikidata.org/entity/Q313', 'type': 'uri'}}\n",
      "{'p': {'value': 'http://www.wikidata.org/prop/direct/P156', 'type': 'uri'}, 'o': {'value': 'http://www.wikidata.org/entity/Q111', 'type': 'uri'}}\n",
      "{'p': {'value': 'http://www.wikidata.org/prop/direct/P214', 'type': 'uri'}, 'o': {'value': '6270149919445006650001', 'type': 'literal'}}\n",
      "{'p': {'value': 'http://www.wikidata.org/prop/direct/P227', 'type': 'uri'}, 'o': {'value': '1135962553', 'type': 'literal'}}\n",
      "{'p': {'value': 'http://www.wikidata.org/prop/direct/P244', 'type': 'uri'}, 'o': {'value': 'sh85040427', 'type': 'literal'}}\n",
      "{'p': {'value': 'http://www.wikidata.org/prop/direct/P268', 'type': 'uri'}, 'o': {'value': '11975911n', 'type': 'literal'}}\n",
      "{'p': {'value': 'http://www.wikidata.org/prop/direct/P349', 'type': 'uri'}, 'o': {'value': '00573040', 'type': 'literal'}}\n",
      "{'p': {'value': 'http://www.wikidata.org/prop/direct/P361', 'type': 'uri'}, 'o': {'value': 'http://www.wikidata.org/entity/Q544', 'type': 'uri'}}\n",
      "{'p': {'value': 'http://www.wikidata.org/prop/direct/P361', 'type': 'uri'}, 'o': {'value': 'http://www.wikidata.org/entity/Q18589965', 'type': 'uri'}}\n",
      "{'p': {'value': 'http://www.wikidata.org/prop/direct/P367', 'type': 'uri'}, 'o': {'value': 'http://commons.wikimedia.org/wiki/Special:FilePath/Earth%20symbol.svg', 'type': 'uri'}}\n",
      "{'p': {'value': 'http://www.wikidata.org/prop/direct/P373', 'type': 'uri'}, 'o': {'value': 'Earth', 'type': 'literal'}}\n",
      "{'p': {'value': 'http://www.wikidata.org/prop/direct/P397', 'type': 'uri'}, 'o': {'value': 'http://www.wikidata.org/entity/Q525', 'type': 'uri'}}\n",
      "{'p': {'value': 'http://www.wikidata.org/prop/direct/P398', 'type': 'uri'}, 'o': {'value': 'http://www.wikidata.org/entity/Q405', 'type': 'uri'}}\n",
      "{'p': {'value': 'http://www.wikidata.org/prop/direct/P443', 'type': 'uri'}, 'o': {'value': 'http://commons.wikimedia.org/wiki/Special:FilePath/De-Erde.ogg', 'type': 'uri'}}\n",
      "{'p': {'value': 'http://www.wikidata.org/prop/direct/P443', 'type': 'uri'}, 'o': {'value': 'http://commons.wikimedia.org/wiki/Special:FilePath/En-Earth.ogg', 'type': 'uri'}}\n",
      "{'p': {'value': 'http://www.wikidata.org/prop/direct/P443', 'type': 'uri'}, 'o': {'value': 'http://commons.wikimedia.org/wiki/Special:FilePath/Fr-terre-ca-Montr%C3%A9al.ogg', 'type': 'uri'}}\n",
      "{'p': {'value': 'http://www.wikidata.org/prop/direct/P443', 'type': 'uri'}, 'o': {'value': 'http://commons.wikimedia.org/wiki/Special:FilePath/It-Terra.oga', 'type': 'uri'}}\n",
      "{'p': {'value': 'http://www.wikidata.org/prop/direct/P443', 'type': 'uri'}, 'o': {'value': 'http://commons.wikimedia.org/wiki/Special:FilePath/Ru-%D0%B7%D0%B5%D0%BC%D0%BB%D1%8F.ogg', 'type': 'uri'}}\n",
      "{'p': {'value': 'http://www.wikidata.org/prop/direct/P486', 'type': 'uri'}, 'o': {'value': 'D018534', 'type': 'literal'}}\n",
      "{'p': {'value': 'http://www.wikidata.org/prop/direct/P487', 'type': 'uri'}, 'o': {'value': '⊕', 'type': 'literal'}}\n",
      "{'p': {'value': 'http://www.wikidata.org/prop/direct/P487', 'type': 'uri'}, 'o': {'value': '🌍', 'type': 'literal'}}\n",
      "{'p': {'value': 'http://www.wikidata.org/prop/direct/P487', 'type': 'uri'}, 'o': {'value': '🌎', 'type': 'literal'}}\n",
      "{'p': {'value': 'http://www.wikidata.org/prop/direct/P487', 'type': 'uri'}, 'o': {'value': '🌏', 'type': 'literal'}}\n",
      "{'p': {'value': 'http://www.wikidata.org/prop/direct/P508', 'type': 'uri'}, 'o': {'value': '5175', 'type': 'literal'}}\n",
      "{'p': {'value': 'http://www.wikidata.org/prop/direct/P522', 'type': 'uri'}, 'o': {'value': 'http://www.wikidata.org/entity/Q1348808', 'type': 'uri'}}\n",
      "{'p': {'value': 'http://www.wikidata.org/prop/direct/P527', 'type': 'uri'}, 'o': {'value': 'http://www.wikidata.org/entity/Q3230', 'type': 'uri'}}\n",
      "{'p': {'value': 'http://www.wikidata.org/prop/direct/P2573', 'type': 'uri'}, 'o': {'datatype': 'http://www.w3.org/2001/XMLSchema#decimal', 'value': '371000000', 'type': 'literal'}}\n",
      "{'p': {'value': 'http://www.wikidata.org/prop/direct/P2573', 'type': 'uri'}, 'o': {'datatype': 'http://www.w3.org/2001/XMLSchema#decimal', 'value': '374000000', 'type': 'literal'}}\n",
      "{'p': {'value': 'http://www.wikidata.org/prop/direct/P2573', 'type': 'uri'}, 'o': {'datatype': 'http://www.w3.org/2001/XMLSchema#decimal', 'value': '379000000', 'type': 'literal'}}\n",
      "{'p': {'value': 'http://www.wikidata.org/prop/direct/P2579', 'type': 'uri'}, 'o': {'value': 'http://www.wikidata.org/entity/Q8008', 'type': 'uri'}}\n",
      "{'p': {'value': 'http://www.wikidata.org/prop/direct/P2581', 'type': 'uri'}, 'o': {'value': '00029424n', 'type': 'literal'}}\n",
      "{'p': {'value': 'http://www.wikidata.org/prop/direct/P2633', 'type': 'uri'}, 'o': {'value': 'http://www.wikidata.org/entity/Q1071', 'type': 'uri'}}\n",
      "{'p': {'value': 'http://www.wikidata.org/prop/direct/P2670', 'type': 'uri'}, 'o': {'value': 'http://www.wikidata.org/entity/Q5107', 'type': 'uri'}}\n",
      "{'p': {'value': 'http://www.wikidata.org/prop/direct/P2924', 'type': 'uri'}, 'o': {'value': '2381210', 'type': 'literal'}}\n",
      "{'p': {'value': 'http://www.wikidata.org/prop/direct/P2956', 'type': 'uri'}, 'o': {'value': '399', 'type': 'literal'}}\n",
      "{'p': {'value': 'http://www.wikidata.org/prop/direct/P2959', 'type': 'uri'}, 'o': {'value': 'http://www.wikidata.org/entity/Q22828183', 'type': 'uri'}}\n",
      "{'p': {'value': 'http://www.wikidata.org/prop/direct/P3219', 'type': 'uri'}, 'o': {'value': 'terre-la-planete-terre', 'type': 'literal'}}\n",
      "{'p': {'value': 'http://www.wikidata.org/prop/direct/P3219', 'type': 'uri'}, 'o': {'value': 'terre-vue-d-ensemble', 'type': 'literal'}}\n",
      "{'p': {'value': 'http://www.wikidata.org/prop/direct/P3222', 'type': 'uri'}, 'o': {'value': 'jorden', 'type': 'literal'}}\n",
      "{'p': {'value': 'http://www.wikidata.org/prop/direct/P3222', 'type': 'uri'}, 'o': {'value': 'tellus', 'type': 'literal'}}\n",
      "{'p': {'value': 'http://www.wikidata.org/prop/direct/P3417', 'type': 'uri'}, 'o': {'value': 'Earth-planet', 'type': 'literal'}}\n",
      "{'p': {'value': 'http://www.wikidata.org/prop/direct/P3569', 'type': 'uri'}, 'o': {'value': 'aarde-weer-en-klimaat/aarde', 'type': 'literal'}}\n",
      "{'p': {'value': 'http://www.wikidata.org/prop/direct/P3827', 'type': 'uri'}, 'o': {'value': 'earth', 'type': 'literal'}}\n",
      "{'p': {'value': 'http://www.wikidata.org/prop/direct/P3916', 'type': 'uri'}, 'o': {'value': 'concept4083', 'type': 'literal'}}\n",
      "{'p': {'value': 'http://www.wikidata.org/prop/direct/P4211', 'type': 'uri'}, 'o': {'value': '12728', 'type': 'literal'}}\n",
      "{'p': {'value': 'http://www.wikidata.org/prop/direct/P4427', 'type': 'uri'}, 'o': {'value': '24817', 'type': 'literal'}}\n",
      "{'p': {'value': 'http://www.wikidata.org/prop/direct/P4466', 'type': 'uri'}, 'o': {'value': '439', 'type': 'literal'}}\n",
      "{'p': {'value': 'http://www.wikidata.org/prop/direct/P4613', 'type': 'uri'}, 'o': {'value': '15977', 'type': 'literal'}}\n",
      "{'p': {'value': 'http://www.wikidata.org/prop/direct/P4839', 'type': 'uri'}, 'o': {'value': 'Entity[\"Planet\", \"Earth\"]', 'type': 'literal'}}\n",
      "{'p': {'value': 'http://www.wikidata.org/prop/direct/P4896', 'type': 'uri'}, 'o': {'value': 'http://commons.wikimedia.org/wiki/Special:FilePath/Earth.stl', 'type': 'uri'}}\n",
      "{'p': {'value': 'http://www.wikidata.org/prop/direct/P5019', 'type': 'uri'}, 'o': {'value': 'erde', 'type': 'literal'}}\n"
     ]
    }
   ],
   "source": [
    "# extract RDF triples\n",
    "# use SPARQL queries\n",
    "for k,v in t.items():\n",
    "    if type(v) is defaultdict:\n",
    "        for k1,v1 in v.items():\n",
    "            if type(v1) is defaultdict:\n",
    "                for k2,v2 in v1.items():\n",
    "                    print(v2.rows)\n",
    "\n",
    "# only extract triples that don't timeout\n",
    "\n",
    "from SPARQLWrapper import SPARQLWrapper, JSON\n",
    "sparql = SPARQLWrapper(\"https://query.wikidata.org/sparql\")\n",
    "sparql.setQuery(\"\"\"SELECT * WHERE\n",
    "{\n",
    "     wd:Q2 ?p ?o .\n",
    "     FILTER(STRSTARTS(str(?p), \"http://www.wikidata.org/prop/direct/\"))\n",
    "     SERVICE wikibase:label { bd:serviceParam wikibase:language \"en\" }\n",
    "}\"\"\")\n",
    "sparql.setReturnFormat(JSON)\n",
    "results = sparql.query().convert()\n",
    "\n",
    "for result in results[\"results\"][\"bindings\"]:\n",
    "    print(result)\n"
   ]
  },
  {
   "cell_type": "code",
   "execution_count": 11,
   "metadata": {
    "collapsed": false,
    "scrolled": false
   },
   "outputs": [
    {
     "name": "stderr",
     "output_type": "stream",
     "text": [
      "DEBUG:wikitables:CiCi Bellis|Table 0: found header outside rows (7 <th> elements)\n",
      "WARNING:mwclient.client:Subscribe to the mediawiki-api-announce mailing list at <https://lists.wikimedia.org/mailman/listinfo/mediawiki-api-announce> for notice of API deprecations and breaking changes. Use [[Special:ApiFeatureUsage]] to see usage of deprecated features by your application.\n",
      "WARNING:mwclient.client:Because no values have been specified for the \"prop\" parameter, a legacy format has been used for the output. This format is deprecated, and in the future, a default value will be set for the \"prop\" parameter, causing the new format to always be used.\n"
     ]
    },
    {
     "name": "stdout",
     "output_type": "stream",
     "text": [
      "CiCi Bellis\n"
     ]
    },
    {
     "name": "stderr",
     "output_type": "stream",
     "text": [
      "WARNING:mwclient.client:Subscribe to the mediawiki-api-announce mailing list at <https://lists.wikimedia.org/mailman/listinfo/mediawiki-api-announce> for notice of API deprecations and breaking changes. Use [[Special:ApiFeatureUsage]] to see usage of deprecated features by your application.\n",
      "WARNING:mwclient.client:Because no values have been specified for the \"prop\" parameter, a legacy format has been used for the output. This format is deprecated, and in the future, a default value will be set for the \"prop\" parameter, causing the new format to always be used.\n",
      "WARNING:mwclient.client:Subscribe to the mediawiki-api-announce mailing list at <https://lists.wikimedia.org/mailman/listinfo/mediawiki-api-announce> for notice of API deprecations and breaking changes. Use [[Special:ApiFeatureUsage]] to see usage of deprecated features by your application.\n",
      "WARNING:mwclient.client:Because no values have been specified for the \"prop\" parameter, a legacy format has been used for the output. This format is deprecated, and in the future, a default value will be set for the \"prop\" parameter, causing the new format to always be used.\n",
      "DEBUG:wikitables:CiCi Bellis|Table 0: parsed 1 rows 7 cols\n",
      "DEBUG:wikitables:CiCi Bellis|Table 0: found header at row 0 (2 <th> elements)\n",
      "DEBUG:wikitables:CiCi Bellis|Table 0: parsed 0 rows 2 cols\n",
      "DEBUG:wikitables:CiCi Bellis|Table 0: found header outside rows (1 <th> elements)\n",
      "DEBUG:wikitables:CiCi Bellis|Table 0: parsed 6 rows 1 cols\n",
      "DEBUG:wikitables:CiCi Bellis|Table 1: found header outside rows (1 <th> elements)\n",
      "DEBUG:wikitables:CiCi Bellis|Table 1: parsed 4 rows 1 cols\n",
      "DEBUG:wikitables:CiCi Bellis|Table 2: found header outside rows (7 <th> elements)\n"
     ]
    },
    {
     "name": "stdout",
     "output_type": "stream",
     "text": [
      "{'value': November 27, 2016, 'link': False}\n",
      "{'value': $100,000 tournaments, 'link': False}\n",
      "{'value': $75,000 tournaments, 'link': False}\n",
      "{'value': $50,000 tournaments, 'link': False}\n",
      "{'value': $25,000 tournaments, 'link': False}\n",
      "{'value': $15,000 tournaments, 'link': False}\n",
      "{'value': $10,000 tournaments, 'link': False}\n",
      "{'value': Hard (6–1), 'link': False}\n",
      "{'value': Clay (0–0), 'link': False}\n",
      "{'value': Grass (0–0), 'link': False}\n",
      "{'value': Carpet (0–0), 'link': False}\n"
     ]
    },
    {
     "name": "stderr",
     "output_type": "stream",
     "text": [
      "WARNING:mwclient.client:Subscribe to the mediawiki-api-announce mailing list at <https://lists.wikimedia.org/mailman/listinfo/mediawiki-api-announce> for notice of API deprecations and breaking changes. Use [[Special:ApiFeatureUsage]] to see usage of deprecated features by your application.\n",
      "WARNING:mwclient.client:Because no values have been specified for the \"prop\" parameter, a legacy format has been used for the output. This format is deprecated, and in the future, a default value will be set for the \"prop\" parameter, causing the new format to always be used.\n",
      "WARNING:mwclient.client:Subscribe to the mediawiki-api-announce mailing list at <https://lists.wikimedia.org/mailman/listinfo/mediawiki-api-announce> for notice of API deprecations and breaking changes. Use [[Special:ApiFeatureUsage]] to see usage of deprecated features by your application.\n",
      "WARNING:mwclient.client:Because no values have been specified for the \"prop\" parameter, a legacy format has been used for the output. This format is deprecated, and in the future, a default value will be set for the \"prop\" parameter, causing the new format to always be used.\n",
      "WARNING:mwclient.client:Subscribe to the mediawiki-api-announce mailing list at <https://lists.wikimedia.org/mailman/listinfo/mediawiki-api-announce> for notice of API deprecations and breaking changes. Use [[Special:ApiFeatureUsage]] to see usage of deprecated features by your application.\n",
      "WARNING:mwclient.client:Because no values have been specified for the \"prop\" parameter, a legacy format has been used for the output. This format is deprecated, and in the future, a default value will be set for the \"prop\" parameter, causing the new format to always be used.\n",
      "WARNING:mwclient.client:Subscribe to the mediawiki-api-announce mailing list at <https://lists.wikimedia.org/mailman/listinfo/mediawiki-api-announce> for notice of API deprecations and breaking changes. Use [[Special:ApiFeatureUsage]] to see usage of deprecated features by your application.\n",
      "WARNING:mwclient.client:Because no values have been specified for the \"prop\" parameter, a legacy format has been used for the output. This format is deprecated, and in the future, a default value will be set for the \"prop\" parameter, causing the new format to always be used.\n"
     ]
    },
    {
     "name": "stdout",
     "output_type": "stream",
     "text": [
      "{'value': October 6, 2014, 'link': False}\n"
     ]
    },
    {
     "name": "stderr",
     "output_type": "stream",
     "text": [
      "WARNING:mwclient.client:Subscribe to the mediawiki-api-announce mailing list at <https://lists.wikimedia.org/mailman/listinfo/mediawiki-api-announce> for notice of API deprecations and breaking changes. Use [[Special:ApiFeatureUsage]] to see usage of deprecated features by your application.\n",
      "WARNING:mwclient.client:Because no values have been specified for the \"prop\" parameter, a legacy format has been used for the output. This format is deprecated, and in the future, a default value will be set for the \"prop\" parameter, causing the new format to always be used.\n",
      "WARNING:mwclient.client:Subscribe to the mediawiki-api-announce mailing list at <https://lists.wikimedia.org/mailman/listinfo/mediawiki-api-announce> for notice of API deprecations and breaking changes. Use [[Special:ApiFeatureUsage]] to see usage of deprecated features by your application.\n",
      "WARNING:mwclient.client:Because no values have been specified for the \"prop\" parameter, a legacy format has been used for the output. This format is deprecated, and in the future, a default value will be set for the \"prop\" parameter, causing the new format to always be used.\n",
      "WARNING:mwclient.client:Subscribe to the mediawiki-api-announce mailing list at <https://lists.wikimedia.org/mailman/listinfo/mediawiki-api-announce> for notice of API deprecations and breaking changes. Use [[Special:ApiFeatureUsage]] to see usage of deprecated features by your application.\n",
      "WARNING:mwclient.client:Because no values have been specified for the \"prop\" parameter, a legacy format has been used for the output. This format is deprecated, and in the future, a default value will be set for the \"prop\" parameter, causing the new format to always be used.\n"
     ]
    },
    {
     "name": "stdout",
     "output_type": "stream",
     "text": [
      "{'value': October 13, 2014, 'link': False}\n"
     ]
    },
    {
     "name": "stderr",
     "output_type": "stream",
     "text": [
      "WARNING:mwclient.client:Subscribe to the mediawiki-api-announce mailing list at <https://lists.wikimedia.org/mailman/listinfo/mediawiki-api-announce> for notice of API deprecations and breaking changes. Use [[Special:ApiFeatureUsage]] to see usage of deprecated features by your application.\n",
      "WARNING:mwclient.client:Because no values have been specified for the \"prop\" parameter, a legacy format has been used for the output. This format is deprecated, and in the future, a default value will be set for the \"prop\" parameter, causing the new format to always be used.\n",
      "WARNING:mwclient.client:Subscribe to the mediawiki-api-announce mailing list at <https://lists.wikimedia.org/mailman/listinfo/mediawiki-api-announce> for notice of API deprecations and breaking changes. Use [[Special:ApiFeatureUsage]] to see usage of deprecated features by your application.\n",
      "WARNING:mwclient.client:Because no values have been specified for the \"prop\" parameter, a legacy format has been used for the output. This format is deprecated, and in the future, a default value will be set for the \"prop\" parameter, causing the new format to always be used.\n",
      "WARNING:mwclient.client:Subscribe to the mediawiki-api-announce mailing list at <https://lists.wikimedia.org/mailman/listinfo/mediawiki-api-announce> for notice of API deprecations and breaking changes. Use [[Special:ApiFeatureUsage]] to see usage of deprecated features by your application.\n",
      "WARNING:mwclient.client:Because no values have been specified for the \"prop\" parameter, a legacy format has been used for the output. This format is deprecated, and in the future, a default value will be set for the \"prop\" parameter, causing the new format to always be used.\n"
     ]
    },
    {
     "name": "stdout",
     "output_type": "stream",
     "text": [
      "{'value': February 23, 2015, 'link': False}\n"
     ]
    },
    {
     "name": "stderr",
     "output_type": "stream",
     "text": [
      "WARNING:mwclient.client:Subscribe to the mediawiki-api-announce mailing list at <https://lists.wikimedia.org/mailman/listinfo/mediawiki-api-announce> for notice of API deprecations and breaking changes. Use [[Special:ApiFeatureUsage]] to see usage of deprecated features by your application.\n",
      "WARNING:mwclient.client:Because no values have been specified for the \"prop\" parameter, a legacy format has been used for the output. This format is deprecated, and in the future, a default value will be set for the \"prop\" parameter, causing the new format to always be used.\n",
      "WARNING:mwclient.client:Subscribe to the mediawiki-api-announce mailing list at <https://lists.wikimedia.org/mailman/listinfo/mediawiki-api-announce> for notice of API deprecations and breaking changes. Use [[Special:ApiFeatureUsage]] to see usage of deprecated features by your application.\n",
      "WARNING:mwclient.client:Because no values have been specified for the \"prop\" parameter, a legacy format has been used for the output. This format is deprecated, and in the future, a default value will be set for the \"prop\" parameter, causing the new format to always be used.\n",
      "WARNING:mwclient.client:Subscribe to the mediawiki-api-announce mailing list at <https://lists.wikimedia.org/mailman/listinfo/mediawiki-api-announce> for notice of API deprecations and breaking changes. Use [[Special:ApiFeatureUsage]] to see usage of deprecated features by your application.\n",
      "WARNING:mwclient.client:Because no values have been specified for the \"prop\" parameter, a legacy format has been used for the output. This format is deprecated, and in the future, a default value will be set for the \"prop\" parameter, causing the new format to always be used.\n"
     ]
    },
    {
     "name": "stdout",
     "output_type": "stream",
     "text": [
      "{'value': February 15, 2016, 'link': False}\n"
     ]
    },
    {
     "name": "stderr",
     "output_type": "stream",
     "text": [
      "WARNING:mwclient.client:Subscribe to the mediawiki-api-announce mailing list at <https://lists.wikimedia.org/mailman/listinfo/mediawiki-api-announce> for notice of API deprecations and breaking changes. Use [[Special:ApiFeatureUsage]] to see usage of deprecated features by your application.\n",
      "WARNING:mwclient.client:Because no values have been specified for the \"prop\" parameter, a legacy format has been used for the output. This format is deprecated, and in the future, a default value will be set for the \"prop\" parameter, causing the new format to always be used.\n",
      "WARNING:mwclient.client:Subscribe to the mediawiki-api-announce mailing list at <https://lists.wikimedia.org/mailman/listinfo/mediawiki-api-announce> for notice of API deprecations and breaking changes. Use [[Special:ApiFeatureUsage]] to see usage of deprecated features by your application.\n",
      "WARNING:mwclient.client:Because no values have been specified for the \"prop\" parameter, a legacy format has been used for the output. This format is deprecated, and in the future, a default value will be set for the \"prop\" parameter, causing the new format to always be used.\n",
      "WARNING:mwclient.client:Subscribe to the mediawiki-api-announce mailing list at <https://lists.wikimedia.org/mailman/listinfo/mediawiki-api-announce> for notice of API deprecations and breaking changes. Use [[Special:ApiFeatureUsage]] to see usage of deprecated features by your application.\n",
      "WARNING:mwclient.client:Because no values have been specified for the \"prop\" parameter, a legacy format has been used for the output. This format is deprecated, and in the future, a default value will be set for the \"prop\" parameter, causing the new format to always be used.\n"
     ]
    },
    {
     "name": "stdout",
     "output_type": "stream",
     "text": [
      "{'value': June 13, 2016, 'link': False}\n"
     ]
    },
    {
     "name": "stderr",
     "output_type": "stream",
     "text": [
      "WARNING:mwclient.client:Subscribe to the mediawiki-api-announce mailing list at <https://lists.wikimedia.org/mailman/listinfo/mediawiki-api-announce> for notice of API deprecations and breaking changes. Use [[Special:ApiFeatureUsage]] to see usage of deprecated features by your application.\n",
      "WARNING:mwclient.client:Because no values have been specified for the \"prop\" parameter, a legacy format has been used for the output. This format is deprecated, and in the future, a default value will be set for the \"prop\" parameter, causing the new format to always be used.\n",
      "WARNING:mwclient.client:Subscribe to the mediawiki-api-announce mailing list at <https://lists.wikimedia.org/mailman/listinfo/mediawiki-api-announce> for notice of API deprecations and breaking changes. Use [[Special:ApiFeatureUsage]] to see usage of deprecated features by your application.\n",
      "WARNING:mwclient.client:Because no values have been specified for the \"prop\" parameter, a legacy format has been used for the output. This format is deprecated, and in the future, a default value will be set for the \"prop\" parameter, causing the new format to always be used.\n",
      "WARNING:mwclient.client:Subscribe to the mediawiki-api-announce mailing list at <https://lists.wikimedia.org/mailman/listinfo/mediawiki-api-announce> for notice of API deprecations and breaking changes. Use [[Special:ApiFeatureUsage]] to see usage of deprecated features by your application.\n",
      "WARNING:mwclient.client:Because no values have been specified for the \"prop\" parameter, a legacy format has been used for the output. This format is deprecated, and in the future, a default value will be set for the \"prop\" parameter, causing the new format to always be used.\n"
     ]
    },
    {
     "name": "stdout",
     "output_type": "stream",
     "text": [
      "{'value': October 17, 2016, 'link': False}\n"
     ]
    },
    {
     "name": "stderr",
     "output_type": "stream",
     "text": [
      "WARNING:mwclient.client:Subscribe to the mediawiki-api-announce mailing list at <https://lists.wikimedia.org/mailman/listinfo/mediawiki-api-announce> for notice of API deprecations and breaking changes. Use [[Special:ApiFeatureUsage]] to see usage of deprecated features by your application.\n",
      "WARNING:mwclient.client:Because no values have been specified for the \"prop\" parameter, a legacy format has been used for the output. This format is deprecated, and in the future, a default value will be set for the \"prop\" parameter, causing the new format to always be used.\n",
      "WARNING:mwclient.client:Subscribe to the mediawiki-api-announce mailing list at <https://lists.wikimedia.org/mailman/listinfo/mediawiki-api-announce> for notice of API deprecations and breaking changes. Use [[Special:ApiFeatureUsage]] to see usage of deprecated features by your application.\n",
      "WARNING:mwclient.client:Because no values have been specified for the \"prop\" parameter, a legacy format has been used for the output. This format is deprecated, and in the future, a default value will be set for the \"prop\" parameter, causing the new format to always be used.\n",
      "DEBUG:wikitables:CiCi Bellis|Table 2: parsed 7 rows 7 cols\n",
      "DEBUG:wikitables:CiCi Bellis|Table 0: found header at row 0 (2 <th> elements)\n",
      "DEBUG:wikitables:CiCi Bellis|Table 0: parsed 0 rows 2 cols\n",
      "DEBUG:wikitables:CiCi Bellis|Table 0: found header outside rows (1 <th> elements)\n",
      "DEBUG:wikitables:CiCi Bellis|Table 0: parsed 6 rows 1 cols\n",
      "DEBUG:wikitables:CiCi Bellis|Table 1: found header outside rows (1 <th> elements)\n",
      "DEBUG:wikitables:CiCi Bellis|Table 1: parsed 4 rows 1 cols\n",
      "DEBUG:wikitables:CiCi Bellis|Table 2: found header outside rows (8 <th> elements)\n",
      "WARNING:mwclient.client:Subscribe to the mediawiki-api-announce mailing list at <https://lists.wikimedia.org/mailman/listinfo/mediawiki-api-announce> for notice of API deprecations and breaking changes. Use [[Special:ApiFeatureUsage]] to see usage of deprecated features by your application.\n",
      "WARNING:mwclient.client:Because no values have been specified for the \"prop\" parameter, a legacy format has been used for the output. This format is deprecated, and in the future, a default value will be set for the \"prop\" parameter, causing the new format to always be used.\n"
     ]
    },
    {
     "name": "stdout",
     "output_type": "stream",
     "text": [
      "{'value': November 6, 2016, 'link': False}\n",
      "{'value': $100,000 tournaments, 'link': False}\n",
      "{'value': $75,000 tournaments, 'link': False}\n",
      "{'value': $50,000 tournaments, 'link': False}\n",
      "{'value': $25,000 tournaments, 'link': False}\n",
      "{'value': $15,000 tournaments, 'link': False}\n",
      "{'value': $10,000 tournaments, 'link': False}\n",
      "{'value': Hard (1–0), 'link': False}\n",
      "{'value': Clay (1–0), 'link': False}\n",
      "{'value': Grass (0–0), 'link': False}\n",
      "{'value': Carpet (0–0), 'link': False}\n"
     ]
    },
    {
     "name": "stderr",
     "output_type": "stream",
     "text": [
      "WARNING:mwclient.client:Subscribe to the mediawiki-api-announce mailing list at <https://lists.wikimedia.org/mailman/listinfo/mediawiki-api-announce> for notice of API deprecations and breaking changes. Use [[Special:ApiFeatureUsage]] to see usage of deprecated features by your application.\n",
      "WARNING:mwclient.client:Because no values have been specified for the \"prop\" parameter, a legacy format has been used for the output. This format is deprecated, and in the future, a default value will be set for the \"prop\" parameter, causing the new format to always be used.\n",
      "WARNING:mwclient.client:Subscribe to the mediawiki-api-announce mailing list at <https://lists.wikimedia.org/mailman/listinfo/mediawiki-api-announce> for notice of API deprecations and breaking changes. Use [[Special:ApiFeatureUsage]] to see usage of deprecated features by your application.\n",
      "WARNING:mwclient.client:Because no values have been specified for the \"prop\" parameter, a legacy format has been used for the output. This format is deprecated, and in the future, a default value will be set for the \"prop\" parameter, causing the new format to always be used.\n",
      "WARNING:mwclient.client:Subscribe to the mediawiki-api-announce mailing list at <https://lists.wikimedia.org/mailman/listinfo/mediawiki-api-announce> for notice of API deprecations and breaking changes. Use [[Special:ApiFeatureUsage]] to see usage of deprecated features by your application.\n",
      "WARNING:mwclient.client:Because no values have been specified for the \"prop\" parameter, a legacy format has been used for the output. This format is deprecated, and in the future, a default value will be set for the \"prop\" parameter, causing the new format to always be used.\n",
      "WARNING:mwclient.client:Subscribe to the mediawiki-api-announce mailing list at <https://lists.wikimedia.org/mailman/listinfo/mediawiki-api-announce> for notice of API deprecations and breaking changes. Use [[Special:ApiFeatureUsage]] to see usage of deprecated features by your application.\n",
      "WARNING:mwclient.client:Because no values have been specified for the \"prop\" parameter, a legacy format has been used for the output. This format is deprecated, and in the future, a default value will be set for the \"prop\" parameter, causing the new format to always be used.\n",
      "WARNING:mwclient.client:Subscribe to the mediawiki-api-announce mailing list at <https://lists.wikimedia.org/mailman/listinfo/mediawiki-api-announce> for notice of API deprecations and breaking changes. Use [[Special:ApiFeatureUsage]] to see usage of deprecated features by your application.\n",
      "WARNING:mwclient.client:Because no values have been specified for the \"prop\" parameter, a legacy format has been used for the output. This format is deprecated, and in the future, a default value will be set for the \"prop\" parameter, causing the new format to always be used.\n",
      "WARNING:mwclient.client:Subscribe to the mediawiki-api-announce mailing list at <https://lists.wikimedia.org/mailman/listinfo/mediawiki-api-announce> for notice of API deprecations and breaking changes. Use [[Special:ApiFeatureUsage]] to see usage of deprecated features by your application.\n",
      "WARNING:mwclient.client:Because no values have been specified for the \"prop\" parameter, a legacy format has been used for the output. This format is deprecated, and in the future, a default value will be set for the \"prop\" parameter, causing the new format to always be used.\n",
      "WARNING:mwclient.client:Subscribe to the mediawiki-api-announce mailing list at <https://lists.wikimedia.org/mailman/listinfo/mediawiki-api-announce> for notice of API deprecations and breaking changes. Use [[Special:ApiFeatureUsage]] to see usage of deprecated features by your application.\n",
      "WARNING:mwclient.client:Because no values have been specified for the \"prop\" parameter, a legacy format has been used for the output. This format is deprecated, and in the future, a default value will be set for the \"prop\" parameter, causing the new format to always be used.\n",
      "WARNING:mwclient.client:Subscribe to the mediawiki-api-announce mailing list at <https://lists.wikimedia.org/mailman/listinfo/mediawiki-api-announce> for notice of API deprecations and breaking changes. Use [[Special:ApiFeatureUsage]] to see usage of deprecated features by your application.\n",
      "WARNING:mwclient.client:Because no values have been specified for the \"prop\" parameter, a legacy format has been used for the output. This format is deprecated, and in the future, a default value will be set for the \"prop\" parameter, causing the new format to always be used.\n",
      "WARNING:mwclient.client:Subscribe to the mediawiki-api-announce mailing list at <https://lists.wikimedia.org/mailman/listinfo/mediawiki-api-announce> for notice of API deprecations and breaking changes. Use [[Special:ApiFeatureUsage]] to see usage of deprecated features by your application.\n",
      "WARNING:mwclient.client:Because no values have been specified for the \"prop\" parameter, a legacy format has been used for the output. This format is deprecated, and in the future, a default value will be set for the \"prop\" parameter, causing the new format to always be used.\n"
     ]
    },
    {
     "name": "stdout",
     "output_type": "stream",
     "text": [
      "{'value': [United States] Alexis Nelson, 'link': False}\n"
     ]
    },
    {
     "name": "stderr",
     "output_type": "stream",
     "text": [
      "WARNING:mwclient.client:Subscribe to the mediawiki-api-announce mailing list at <https://lists.wikimedia.org/mailman/listinfo/mediawiki-api-announce> for notice of API deprecations and breaking changes. Use [[Special:ApiFeatureUsage]] to see usage of deprecated features by your application.\n",
      "WARNING:mwclient.client:Because no values have been specified for the \"prop\" parameter, a legacy format has been used for the output. This format is deprecated, and in the future, a default value will be set for the \"prop\" parameter, causing the new format to always be used.\n",
      "WARNING:mwclient.client:Subscribe to the mediawiki-api-announce mailing list at <https://lists.wikimedia.org/mailman/listinfo/mediawiki-api-announce> for notice of API deprecations and breaking changes. Use [[Special:ApiFeatureUsage]] to see usage of deprecated features by your application.\n",
      "WARNING:mwclient.client:Because no values have been specified for the \"prop\" parameter, a legacy format has been used for the output. This format is deprecated, and in the future, a default value will be set for the \"prop\" parameter, causing the new format to always be used.\n",
      "WARNING:mwclient.client:Subscribe to the mediawiki-api-announce mailing list at <https://lists.wikimedia.org/mailman/listinfo/mediawiki-api-announce> for notice of API deprecations and breaking changes. Use [[Special:ApiFeatureUsage]] to see usage of deprecated features by your application.\n",
      "WARNING:mwclient.client:Because no values have been specified for the \"prop\" parameter, a legacy format has been used for the output. This format is deprecated, and in the future, a default value will be set for the \"prop\" parameter, causing the new format to always be used.\n",
      "WARNING:mwclient.client:Subscribe to the mediawiki-api-announce mailing list at <https://lists.wikimedia.org/mailman/listinfo/mediawiki-api-announce> for notice of API deprecations and breaking changes. Use [[Special:ApiFeatureUsage]] to see usage of deprecated features by your application.\n",
      "WARNING:mwclient.client:Because no values have been specified for the \"prop\" parameter, a legacy format has been used for the output. This format is deprecated, and in the future, a default value will be set for the \"prop\" parameter, causing the new format to always be used.\n",
      "WARNING:mwclient.client:Subscribe to the mediawiki-api-announce mailing list at <https://lists.wikimedia.org/mailman/listinfo/mediawiki-api-announce> for notice of API deprecations and breaking changes. Use [[Special:ApiFeatureUsage]] to see usage of deprecated features by your application.\n",
      "WARNING:mwclient.client:Because no values have been specified for the \"prop\" parameter, a legacy format has been used for the output. This format is deprecated, and in the future, a default value will be set for the \"prop\" parameter, causing the new format to always be used.\n",
      "WARNING:mwclient.client:Subscribe to the mediawiki-api-announce mailing list at <https://lists.wikimedia.org/mailman/listinfo/mediawiki-api-announce> for notice of API deprecations and breaking changes. Use [[Special:ApiFeatureUsage]] to see usage of deprecated features by your application.\n",
      "WARNING:mwclient.client:Because no values have been specified for the \"prop\" parameter, a legacy format has been used for the output. This format is deprecated, and in the future, a default value will be set for the \"prop\" parameter, causing the new format to always be used.\n",
      "WARNING:mwclient.client:Subscribe to the mediawiki-api-announce mailing list at <https://lists.wikimedia.org/mailman/listinfo/mediawiki-api-announce> for notice of API deprecations and breaking changes. Use [[Special:ApiFeatureUsage]] to see usage of deprecated features by your application.\n",
      "WARNING:mwclient.client:Because no values have been specified for the \"prop\" parameter, a legacy format has been used for the output. This format is deprecated, and in the future, a default value will be set for the \"prop\" parameter, causing the new format to always be used.\n",
      "WARNING:mwclient.client:Subscribe to the mediawiki-api-announce mailing list at <https://lists.wikimedia.org/mailman/listinfo/mediawiki-api-announce> for notice of API deprecations and breaking changes. Use [[Special:ApiFeatureUsage]] to see usage of deprecated features by your application.\n",
      "WARNING:mwclient.client:Because no values have been specified for the \"prop\" parameter, a legacy format has been used for the output. This format is deprecated, and in the future, a default value will be set for the \"prop\" parameter, causing the new format to always be used.\n",
      "DEBUG:wikitables:CiCi Bellis|Table 2: parsed 2 rows 8 cols\n",
      "DEBUG:wikitables:CiCi Bellis|Table 0: found header at row 0 (7 <th> elements)\n",
      "DEBUG:wikitables:CiCi Bellis|Table 0: parsed 0 rows 7 cols\n",
      "DEBUG:wikitables:CiCi Bellis|Table 0: found header outside rows (9 <th> elements)\n",
      "DEBUG:wikitables:CiCi Bellis|Table 0: parsed 0 rows 9 cols\n",
      "DEBUG:wikitables:CiCi Bellis|Table 0: found header outside rows (7 <th> elements)\n",
      "WARNING:mwclient.client:Subscribe to the mediawiki-api-announce mailing list at <https://lists.wikimedia.org/mailman/listinfo/mediawiki-api-announce> for notice of API deprecations and breaking changes. Use [[Special:ApiFeatureUsage]] to see usage of deprecated features by your application.\n",
      "WARNING:mwclient.client:Because no values have been specified for the \"prop\" parameter, a legacy format has been used for the output. This format is deprecated, and in the future, a default value will be set for the \"prop\" parameter, causing the new format to always be used.\n"
     ]
    },
    {
     "name": "stdout",
     "output_type": "stream",
     "text": [
      "{'value': [United States] [Ingrid Neel], 'link': True}\n"
     ]
    },
    {
     "name": "stderr",
     "output_type": "stream",
     "text": [
      "WARNING:mwclient.client:Subscribe to the mediawiki-api-announce mailing list at <https://lists.wikimedia.org/mailman/listinfo/mediawiki-api-announce> for notice of API deprecations and breaking changes. Use [[Special:ApiFeatureUsage]] to see usage of deprecated features by your application.\n",
      "WARNING:mwclient.client:Because no values have been specified for the \"prop\" parameter, a legacy format has been used for the output. This format is deprecated, and in the future, a default value will be set for the \"prop\" parameter, causing the new format to always be used.\n",
      "WARNING:mwclient.client:Subscribe to the mediawiki-api-announce mailing list at <https://lists.wikimedia.org/mailman/listinfo/mediawiki-api-announce> for notice of API deprecations and breaking changes. Use [[Special:ApiFeatureUsage]] to see usage of deprecated features by your application.\n",
      "WARNING:mwclient.client:Because no values have been specified for the \"prop\" parameter, a legacy format has been used for the output. This format is deprecated, and in the future, a default value will be set for the \"prop\" parameter, causing the new format to always be used.\n",
      "WARNING:mwclient.client:Subscribe to the mediawiki-api-announce mailing list at <https://lists.wikimedia.org/mailman/listinfo/mediawiki-api-announce> for notice of API deprecations and breaking changes. Use [[Special:ApiFeatureUsage]] to see usage of deprecated features by your application.\n",
      "WARNING:mwclient.client:Because no values have been specified for the \"prop\" parameter, a legacy format has been used for the output. This format is deprecated, and in the future, a default value will be set for the \"prop\" parameter, causing the new format to always be used.\n",
      "WARNING:mwclient.client:Subscribe to the mediawiki-api-announce mailing list at <https://lists.wikimedia.org/mailman/listinfo/mediawiki-api-announce> for notice of API deprecations and breaking changes. Use [[Special:ApiFeatureUsage]] to see usage of deprecated features by your application.\n",
      "WARNING:mwclient.client:Because no values have been specified for the \"prop\" parameter, a legacy format has been used for the output. This format is deprecated, and in the future, a default value will be set for the \"prop\" parameter, causing the new format to always be used.\n",
      "WARNING:mwclient.client:Subscribe to the mediawiki-api-announce mailing list at <https://lists.wikimedia.org/mailman/listinfo/mediawiki-api-announce> for notice of API deprecations and breaking changes. Use [[Special:ApiFeatureUsage]] to see usage of deprecated features by your application.\n",
      "WARNING:mwclient.client:Because no values have been specified for the \"prop\" parameter, a legacy format has been used for the output. This format is deprecated, and in the future, a default value will be set for the \"prop\" parameter, causing the new format to always be used.\n",
      "WARNING:mwclient.client:Subscribe to the mediawiki-api-announce mailing list at <https://lists.wikimedia.org/mailman/listinfo/mediawiki-api-announce> for notice of API deprecations and breaking changes. Use [[Special:ApiFeatureUsage]] to see usage of deprecated features by your application.\n",
      "WARNING:mwclient.client:Because no values have been specified for the \"prop\" parameter, a legacy format has been used for the output. This format is deprecated, and in the future, a default value will be set for the \"prop\" parameter, causing the new format to always be used.\n",
      "WARNING:mwclient.client:Subscribe to the mediawiki-api-announce mailing list at <https://lists.wikimedia.org/mailman/listinfo/mediawiki-api-announce> for notice of API deprecations and breaking changes. Use [[Special:ApiFeatureUsage]] to see usage of deprecated features by your application.\n",
      "WARNING:mwclient.client:Because no values have been specified for the \"prop\" parameter, a legacy format has been used for the output. This format is deprecated, and in the future, a default value will be set for the \"prop\" parameter, causing the new format to always be used.\n",
      "WARNING:mwclient.client:Subscribe to the mediawiki-api-announce mailing list at <https://lists.wikimedia.org/mailman/listinfo/mediawiki-api-announce> for notice of API deprecations and breaking changes. Use [[Special:ApiFeatureUsage]] to see usage of deprecated features by your application.\n",
      "WARNING:mwclient.client:Because no values have been specified for the \"prop\" parameter, a legacy format has been used for the output. This format is deprecated, and in the future, a default value will be set for the \"prop\" parameter, causing the new format to always be used.\n",
      "DEBUG:wikitables:CiCi Bellis|Table 0: parsed 1 rows 7 cols\n"
     ]
    },
    {
     "name": "stdout",
     "output_type": "stream",
     "text": [
      "{'value': [Czech Republic] [Markéta Vondroušová], 'link': True}\n"
     ]
    }
   ],
   "source": [
    "z =import_tables(\"CiCi_Bellis\")"
   ]
  },
  {
   "cell_type": "code",
   "execution_count": 12,
   "metadata": {
    "collapsed": false
   },
   "outputs": [
    {
     "data": {
      "text/plain": [
       "[{'Date': {'link': False, 'value': November 27, 2016},\n",
       "  'No.': {'link': False, 'value': 1.0},\n",
       "  'Opponent': {'link': True, 'value': [China] [Zhang Shuai (tennis)]},\n",
       "  'Result': {'link': False, 'value': Winner},\n",
       "  'Score': {'link': False, 'value': 6–4, 6–2},\n",
       "  'Surface': {'link': False, 'value': Hard},\n",
       "  'Tournament': {'link': True,\n",
       "   'value': [Hawaii Tennis Open] , Honolulu, United States}}]"
      ]
     },
     "execution_count": 12,
     "metadata": {},
     "output_type": "execute_result"
    }
   ],
   "source": [
    "z[0][\"table\"][0].rows"
   ]
  },
  {
   "cell_type": "code",
   "execution_count": null,
   "metadata": {
    "collapsed": true
   },
   "outputs": [],
   "source": []
  }
 ],
 "metadata": {
  "anaconda-cloud": {},
  "kernelspec": {
   "display_name": "Python [conda env:anaconda3]",
   "language": "python",
   "name": "conda-env-anaconda3-py"
  },
  "language_info": {
   "codemirror_mode": {
    "name": "ipython",
    "version": 3
   },
   "file_extension": ".py",
   "mimetype": "text/x-python",
   "name": "python",
   "nbconvert_exporter": "python",
   "pygments_lexer": "ipython3",
   "version": "3.5.2"
  }
 },
 "nbformat": 4,
 "nbformat_minor": 1
}
