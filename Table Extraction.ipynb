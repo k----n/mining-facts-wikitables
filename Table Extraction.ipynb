{
 "cells": [
  {
   "cell_type": "code",
   "execution_count": 1,
   "metadata": {
    "collapsed": false
   },
   "outputs": [],
   "source": [
    "from wikitables import *\n",
    "import mwclient\n",
    "import mwparserfromhell as mwp\n",
    "import logging"
   ]
  },
  {
   "cell_type": "code",
   "execution_count": 2,
   "metadata": {
    "collapsed": false
   },
   "outputs": [],
   "source": [
    "logger = logging.getLogger(\"wikitables\")\n",
    "logger.setLevel(logging.DEBUG)"
   ]
  },
  {
   "cell_type": "code",
   "execution_count": 3,
   "metadata": {
    "collapsed": false,
    "scrolled": true
   },
   "outputs": [],
   "source": [
    "# retrieve list of articles with tables in wikipedia\n",
    "# get 10 articles each from a-z with appeneded random letter to act as random sample of tables\n",
    "import string\n",
    "import random\n",
    "\n",
    "articles = list()\n",
    "site = mwclient.Site('en.wikipedia.org')\n",
    "\n",
    "# for letter in string.ascii_lowercase:\n",
    "#     counter = 0\n",
    "#     while (counter!=10):\n",
    "#         for page in site.allpages(filterredir='nonredirects', prefix=letter+random.choice(string.ascii_lowercase)):\n",
    "#             tables = mwp.parse(page.text()).filter_tags(matches=ftag('table'))\n",
    "#             if tables:\n",
    "#                 t = import_tables(page.name)\n",
    "#                 if t:\n",
    "#                     print(page.name)\n",
    "#                     articles.append(page.name)\n",
    "#                     counter+=1\n",
    "#                     break"
   ]
  },
  {
   "cell_type": "code",
   "execution_count": 4,
   "metadata": {
    "collapsed": false
   },
   "outputs": [],
   "source": [
    "# # save the articles with tables\n",
    "# import pickle\n",
    "\n",
    "# with open(\"articles.txt\", \"wb\") as fp:\n",
    "#     pickle.dump(articles, fp)"
   ]
  },
  {
   "cell_type": "code",
   "execution_count": 5,
   "metadata": {
    "collapsed": false
   },
   "outputs": [],
   "source": [
    "# import the saved articles\n",
    "import pickle\n",
    "with open(\"articles.txt\", \"rb\") as fp:\n",
    "    articles = sorted(list(set(pickle.load(fp))))"
   ]
  },
  {
   "cell_type": "code",
   "execution_count": 33,
   "metadata": {
    "collapsed": false,
    "scrolled": true
   },
   "outputs": [
    {
     "name": "stderr",
     "output_type": "stream",
     "text": [
      "DEBUG:wikitables:Zydis|Table 0: found header at row 0 (4 <th> elements)\n",
      "DEBUG:wikitables:Zydis|Table 0: parsed 10 rows 4 cols\n"
     ]
    },
    {
     "name": "stdout",
     "output_type": "stream",
     "text": [
      "defaultdict(<function <lambda> at 0x7f71bc0a8d90>, {'extract': 'Zydis is a technology used to manufacture orally disintegrating tablets developed by R.P. Scherer Corporation. Zydis tablets dissolve in the mouth within 3 seconds.', 'title': 'Zydis', 0: defaultdict(<function <lambda> at 0x7f71bc0a8d90>, {'table': defaultdict(<function <lambda> at 0x7f71bc0a8d90>, {0: <WikiTable 'Zydis|Table 0'>}), 'head': ' Fast dissolving drugs with Zydis technology ', 'text': 'Data from \"Fast Disintegrating Drug Delivery Systems: A Review with Special Emphasis on Fast Disintegrating Tablets\" (2013).'})})\n"
     ]
    }
   ],
   "source": [
    "# extract tables and features\n",
    "t = import_tables(articles[201])\n",
    "print(t)"
   ]
  },
  {
   "cell_type": "code",
   "execution_count": 7,
   "metadata": {
    "collapsed": false,
    "scrolled": true
   },
   "outputs": [
    {
     "name": "stdout",
     "output_type": "stream",
     "text": [
      "meal -> Meal (score: 0.2014230340719223)\n",
      "Mexican -> Mexican cuisine (score: 0.36614900827407837)\n",
      "burritos -> Burrito (score: 0.28607892990112305)\n"
     ]
    }
   ],
   "source": [
    "# disambiguate entities within cells\n",
    "import tagme\n",
    "\n",
    "with open(\"tagme\", 'r') as file:\n",
    "    token = file.readline().strip()\n",
    "    \n",
    "tagme.GCUBE_TOKEN = token\n",
    "\n",
    "lunch_annotations = tagme.annotate(\"My favourite meal is Mexican burritos.\")\n",
    "\n",
    "# Print annotations with a score higher than 0.1\n",
    "for ann in lunch_annotations.get_annotations(0.1):\n",
    "    print(ann)\n"
   ]
  },
  {
   "cell_type": "code",
   "execution_count": 32,
   "metadata": {
    "collapsed": false
   },
   "outputs": [
    {
     "name": "stdout",
     "output_type": "stream",
     "text": [
      "[{'Trade name': Ativan, 'Active formula': Lorazepam, 'Manufacturer': Valeant Pharmaceuticals, 'Indication': Anxiety disorders}, {'Trade name': Claritin RediTab, 'Active formula': Loratadine, 'Manufacturer': Schering-Plough, 'Indication': Allergy}, {'Trade name': Imodium, 'Active formula': Loperamide, 'Manufacturer': Johnson & Johnson, 'Indication': Diarrhea}, {'Trade name': Feldene melt, 'Active formula': Piroxicam, 'Manufacturer': Pfizer, 'Indication': Pain relief}, {'Trade name': Maxalt MLT, 'Active formula': Rizatriptan, 'Manufacturer': Merck & Co., 'Indication': Headache}, {'Trade name': Motilium, 'Active formula': Domperidone, 'Manufacturer': Johnson & Johnson, 'Indication': Nausea and vomiting}, {'Trade name': Zelapar, 'Active formula': Selegiline, 'Manufacturer': Valeant Pharmaceuticals, 'Indication': Parkinson's disease , Major depressive disorder}, {'Trade name': Pepcid RPD, 'Active formula': Famotidine, 'Manufacturer': Johnson & Johnson, 'Indication': Peptic ulcer disease (PUD), gastroesophageal reflux disease (GERD/GORD)}, {'Trade name': Zyprexa, 'Active formula': Olanzapine, 'Manufacturer': Eli Lilly and Company, 'Indication': Schizophrenia , bipolar disorder}, {'Trade name': Zofran ODT, 'Active formula': Ondansetron, 'Manufacturer': GlaxoSmithKline, 'Indication': Nausea and vomiting}]\n"
     ]
    }
   ],
   "source": [
    "# extract RDF triples\n",
    "# use SPARQL queries\n",
    "for k,v in t.items():\n",
    "    if type(v) is defaultdict:\n",
    "        for k1,v1 in v.items():\n",
    "            if type(v1) is defaultdict:\n",
    "                for k2,v2 in v1.items():\n",
    "                    print(v2.rows)\n",
    "\n",
    "# only extract triples that don't timeout\n",
    "\n",
    "from SPARQLWrapper import SPARQLWrapper, JSON\n",
    "sparql = SPARQLWrapper(\"https://query.wikidata.org/sparql\")\n",
    "sparql.setQuery(\"\"\"SELECT * WHERE\n",
    "{\n",
    "     wd:Q2 ?p ?o .\n",
    "     FILTER(STRSTARTS(str(?p), \"http://www.wikidata.org/prop/direct/\"))\n",
    "     SERVICE wikibase:label { bd:serviceParam wikibase:language \"en\" }\n",
    "}\"\"\")\n",
    "sparql.setReturnFormat(JSON)\n",
    "results = sparql.query().convert()\n",
    "\n",
    "for result in results[\"results\"][\"bindings\"]:\n",
    "    print(result)\n"
   ]
  },
  {
   "cell_type": "code",
   "execution_count": null,
   "metadata": {
    "collapsed": true
   },
   "outputs": [],
   "source": []
  }
 ],
 "metadata": {
  "anaconda-cloud": {},
  "kernelspec": {
   "display_name": "Python [conda env:anaconda3]",
   "language": "python",
   "name": "conda-env-anaconda3-py"
  },
  "language_info": {
   "codemirror_mode": {
    "name": "ipython",
    "version": 3
   },
   "file_extension": ".py",
   "mimetype": "text/x-python",
   "name": "python",
   "nbconvert_exporter": "python",
   "pygments_lexer": "ipython3",
   "version": "3.5.2"
  }
 },
 "nbformat": 4,
 "nbformat_minor": 1
}
