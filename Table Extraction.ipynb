{
 "cells": [
  {
   "cell_type": "code",
   "execution_count": 1,
   "metadata": {
    "collapsed": false
   },
   "outputs": [],
   "source": [
    "from wikitables import *\n",
    "import mwclient\n",
    "import mwparserfromhell as mwp\n",
    "import logging"
   ]
  },
  {
   "cell_type": "code",
   "execution_count": 2,
   "metadata": {
    "collapsed": false
   },
   "outputs": [],
   "source": [
    "logger = logging.getLogger(\"wikitables\")\n",
    "logger.setLevel(logging.DEBUG)"
   ]
  },
  {
   "cell_type": "code",
   "execution_count": 3,
   "metadata": {
    "collapsed": false,
    "scrolled": true
   },
   "outputs": [],
   "source": [
    "# retrieve list of articles with tables in wikipedia\n",
    "# get 10 articles each from a-z with appeneded random letter to act as random sample of tables\n",
    "import string\n",
    "import random\n",
    "\n",
    "# articles = list()\n",
    "# site = mwclient.Site('en.wikipedia.org')\n",
    "\n",
    "# for letter in string.ascii_lowercase:\n",
    "#     counter = 0\n",
    "#     while (counter!=10):\n",
    "#         for page in site.allpages(filterredir='nonredirects', prefix=letter+random.choice(string.ascii_lowercase)):\n",
    "#             tables = mwp.parse(page.text()).filter_tags(matches=ftag('table'))\n",
    "#             if tables:\n",
    "#                 t = import_tables(page.name)\n",
    "#                 if t:\n",
    "#                     print(page.name)\n",
    "#                     articles.append(page.name)\n",
    "#                     counter+=1\n",
    "#                     break"
   ]
  },
  {
   "cell_type": "code",
   "execution_count": 4,
   "metadata": {
    "collapsed": false
   },
   "outputs": [],
   "source": [
    "# # save the articles with tables\n",
    "# import pickle\n",
    "\n",
    "# with open(\"articles.txt\", \"wb\") as fp:\n",
    "#     pickle.dump(articles, fp)"
   ]
  },
  {
   "cell_type": "code",
   "execution_count": 5,
   "metadata": {
    "collapsed": false
   },
   "outputs": [],
   "source": [
    "# import the saved articles\n",
    "import pickle\n",
    "with open(\"articles.txt\", \"rb\") as fp:\n",
    "    articles = list(set(pickle.load(fp)))"
   ]
  },
  {
   "cell_type": "code",
   "execution_count": 6,
   "metadata": {
    "collapsed": false,
    "scrolled": true
   },
   "outputs": [
    {
     "name": "stdout",
     "output_type": "stream",
     "text": [
      "Ia Ora 'O Tahiti Nui[0]\n"
     ]
    }
   ],
   "source": [
    "# extract tables and features\n",
    "t = import_tables(\"Ia Ora 'O Tahiti Nui\")"
   ]
  },
  {
   "cell_type": "code",
   "execution_count": 7,
   "metadata": {
    "collapsed": false,
    "scrolled": true
   },
   "outputs": [
    {
     "data": {
      "text/plain": [
       "[{'Official Text in Tahitian': ʻUa rahu te atua i tōʻu ʻāiʻa\n",
       "  Hono noʻanoʻa o te motu rau\n",
       "  Heihei i te pua riʻi au ē\n",
       "  E firi nape mōrohi ʻore\n",
       "  ʻO tāʻu īa e faʻateniteni nei\n",
       "  Tē tūoro nei te reo here\n",
       "  O te huia\n",
       "  ʻA hiʻi i tō aroha\n",
       "  ʻIa ora ʻo Tahiti Nui ē, 'Translation': God created my homeland\n",
       "  Fragrant garland laid across the many islands\n",
       "  Ode to the little flowers we love\n",
       "  It's a never-fading wreath of sennit\n",
       "  That I celebrate today\n",
       "  Listen to your children's voices\n",
       "  Calling us to cherish the beloved\n",
       "  Long live Tahiti Nui !}]"
      ]
     },
     "execution_count": 7,
     "metadata": {},
     "output_type": "execute_result"
    }
   ],
   "source": [
    "t[0].rows"
   ]
  },
  {
   "cell_type": "code",
   "execution_count": 8,
   "metadata": {
    "collapsed": false
   },
   "outputs": [],
   "source": [
    "# extract RDF triples"
   ]
  },
  {
   "cell_type": "code",
   "execution_count": null,
   "metadata": {
    "collapsed": true
   },
   "outputs": [],
   "source": []
  }
 ],
 "metadata": {
  "anaconda-cloud": {},
  "kernelspec": {
   "display_name": "Python [conda env:anaconda3]",
   "language": "python",
   "name": "conda-env-anaconda3-py"
  },
  "language_info": {
   "codemirror_mode": {
    "name": "ipython",
    "version": 3
   },
   "file_extension": ".py",
   "mimetype": "text/x-python",
   "name": "python",
   "nbconvert_exporter": "python",
   "pygments_lexer": "ipython3",
   "version": "3.5.2"
  }
 },
 "nbformat": 4,
 "nbformat_minor": 1
}
